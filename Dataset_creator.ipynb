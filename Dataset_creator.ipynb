{
 "cells": [
  {
   "cell_type": "markdown",
   "source": [
    "### Currently broken. Needs to be converted into python scripts utilising functions as part of custom packages."
   ],
   "metadata": {}
  },
  {
   "cell_type": "code",
   "execution_count": null,
   "source": [
    "import os\r\n",
    "import ntpath\r\n",
    "import shutil\r\n",
    "import sys\r\n",
    "import argparse\r\n",
    "from datetime import datetime\r\n",
    "import random\r\n",
    "\r\n",
    "import numpy as np\r\n",
    "import cv2\r\n",
    "from PIL import Image, ImageChops, ImageDraw, ImageOps, ImageFilter, ImageStat, ImageEnhance, ImageFile\r\n",
    "from skimage import io, color, exposure\r\n",
    "#import imutils\r\n",
    "import matplotlib\r\n",
    "import matplotlib.pyplot as plt\r\n",
    "import glob\r\n",
    "import math\r\n",
    "#import blend_modes\r\n",
    "\r\n",
    "from damage import no_damage, remove_quadrant, remove_hole, bullet_holes, graffiti, bend_vertical, damage_image\r\n",
    "from utils import load_paths, load_files, scale_image, create_alpha, delete_background, to_png, dir_split\r\n",
    "import manipulate\r\n",
    "import generate\r\n",
    "\r\n",
    "original = True # Whether we are using the original exposure_manipulation code or not"
   ],
   "outputs": [],
   "metadata": {}
  },
  {
   "cell_type": "code",
   "execution_count": null,
   "source": [
    "# Create the output directories if they don't exist already\r\n",
    "base_dir = \"Traffic_Signs_Templates\"\r\n",
    "input_dir = os.path.join(base_dir, \"1_Input_Images\")\r\n",
    "output_dir = os.path.join(base_dir, \"2_Processed_Images\")\r\n",
    "if (not os.path.exists(base_dir)):\r\n",
    "    os.mkdir(base_dir)\r\n",
    "if (not os.path.exists(output_dir)):\r\n",
    "    os.mkdir(output_dir)\r\n",
    "\r\n",
    "# Rescale images and make white backgrounds transparent\r\n",
    "paths = load_files(input_dir)\r\n",
    "for path in paths:\r\n",
    "    img = scale_image(path) # Rescale the image\r\n",
    "\r\n",
    "    # Remove the extension and save as a png\r\n",
    "    _, filename = ntpath.split(path)\r\n",
    "    name, _ = filename.rsplit('.', 1)\r\n",
    "    save_path = os.path.join(output_dir, name) + \".png\"\r\n",
    "    img.save(save_path)\r\n",
    "\r\n",
    "    delete_background(save_path, save_path) # Overwrite the newly rescaled image"
   ],
   "outputs": [],
   "metadata": {}
  },
  {
   "cell_type": "code",
   "execution_count": null,
   "source": [
    "# Used for SGTSD\r\n",
    "#TODO: Use cmd line parameters for damage_types?\r\n",
    "damage_types = [\"ORIGINAL\", \"QUADRANT\", \"BIG_HOLE\", \"HOLES\", \"YELLOW\", #TODO: Remove damage_types and fix downstream dependencies\r\n",
    "                 \"GRAFFITI\", \"BEND\", \"GREY\"]\r\n",
    "\r\n",
    "#TODO: Cmd line parameter for reusing pre-generated damaged images\r\n",
    "\r\n",
    "# Create damaged signs using the images with backgrounds removed\r\n",
    "input_path = os.path.join(\"Traffic_Signs_Templates\", \"2_Processed_Images\")\r\n",
    "output_dir = os.path.join(\"Traffic_Signs_Templates\", \"3_Damaged_Images\")\r\n",
    "\r\n",
    "# Remove any old output and recreate the output directory\r\n",
    "if os.path.exists(output_dir):\r\n",
    "    shutil.rmtree(output_dir)\r\n",
    "os.mkdir(output_dir)\r\n",
    "\r\n",
    "ii = 0\r\n",
    "processed = load_files(input_path)\r\n",
    "for image_path in processed:\r\n",
    "    print(\"Damaging signs: \" + str(float(ii) / float(len(processed)) * 100) + \" %\")\r\n",
    "    damage_image(image_path, output_dir)\r\n",
    "    ii += 1\r\n",
    "print(\"Damaging signs: \" + str(100) + \" %\")"
   ],
   "outputs": [],
   "metadata": {}
  },
  {
   "cell_type": "code",
   "execution_count": null,
   "source": [
    "input_path = os.path.join(\"Traffic_Signs_Templates\", \"3_Damaged_Images\")\r\n",
    "output_dir = os.path.join(\"Traffic_Signs_Templates\", \"4_Transformed_Images\")\r\n",
    "\r\n",
    "# Loop through each folder in the input directory\r\n",
    "for folder_path in load_paths(input_path):\r\n",
    "    # Retrieve the sign number to create a directory\r\n",
    "    _,number = os.path.split(folder_path)\r\n",
    "    save_dir = os.path.join(output_dir, number)\r\n",
    "    \r\n",
    "    for image_path in load_files(folder_path):\r\n",
    "        manipulate.img_transform(image_path, save_dir)"
   ],
   "outputs": [],
   "metadata": {
    "tags": []
   }
  },
  {
   "cell_type": "code",
   "execution_count": null,
   "source": [
    "ImageFile.LOAD_TRUNCATED_IMAGES = True\r\n",
    "\r\n",
    "for bg_folders in load_paths(\"Backgrounds\"):\r\n",
    "    to_png(bg_folders)"
   ],
   "outputs": [],
   "metadata": {}
  },
  {
   "cell_type": "code",
   "execution_count": null,
   "source": [
    "bg_dir = \"Backgrounds\"\r\n",
    "transform_dir = os.path.join(\"Traffic_Signs_Templates\", \"4_Transformed_Images\")\r\n",
    "\r\n",
    "for dirs in load_paths(bg_dir):\r\n",
    "    sep = os.sep  # Directory separator: '/' or '\\'\r\n",
    "\r\n",
    "    if original is True:\r\n",
    "        for background in load_paths(dirs):\r\n",
    "            iniitial, subd, element = dir_split(background)\r\n",
    "            title, extension = element.split('.')\r\n",
    "\r\n",
    "            for signp in load_paths(transform_dir):\r\n",
    "                for sign in load_paths(signp):\r\n",
    "                    d,s,f,e = dir_split(sign)  # Eg. s = 4_Transformed_Images, f = 9, e = 9_BOTTOM_HOLE\r\n",
    "\r\n",
    "                    exp_dir = \"Traffic_Signs_Exposure_Manipulation\" + sep\r\n",
    "                    if (not os.path.exists(exp_dir + subd + sep + title + sep + \"SIGN_\" + f + sep + e)):\r\n",
    "                        os.makedirs(exp_dir + subd + sep + title + sep + \"SIGN_\" + f + sep + e)\r\n",
    "    else:\r\n",
    "        for signp in load_paths(transform_dir):\r\n",
    "            for sign in load_paths(signp):\r\n",
    "                d,s,f,e = dir_split(sign)\r\n",
    "\r\n",
    "                fade_dir = \"Traffic_Signs_Fade_Manipulation\" + sep\r\n",
    "                if (not os.path.exists(fade_dir + \"SIGN_\" + f + sep + e)):\r\n",
    "                    os.makedirs(fade_dir + \"SIGN_\" + f + sep + e)\r\n",
    "\r\n",
    "signs_paths = []\r\n",
    "for p in load_paths(transform_dir):\r\n",
    "    for d in load_paths(p):\r\n",
    "        signs_paths += load_paths(d)\r\n",
    "\r\n",
    "background_paths = []  # Load the paths of the background images into a single list\r\n",
    "\r\n",
    "for subfolder in load_paths(bg_dir):\r\n",
    "    background_paths += load_paths(subfolder)\r\n",
    "\r\n",
    "if original is True:\r\n",
    "    manipulate.exposure_manipulation(signs_paths, background_paths)\r\n",
    "else:\r\n",
    "    manipulate.fade_manipulation(signs_paths, background_paths)"
   ],
   "outputs": [],
   "metadata": {
    "scrolled": true,
    "tags": []
   }
  },
  {
   "cell_type": "code",
   "execution_count": null,
   "source": [
    "if original is True:\r\n",
    "    directory = \"Traffic_Signs_Exposure_Manipulation\"\r\n",
    "    manipulate.find_useful_signs(directory)"
   ],
   "outputs": [],
   "metadata": {
    "tags": []
   }
  },
  {
   "cell_type": "code",
   "execution_count": null,
   "source": [
    "# Create the required directories in SGTSD\r\n",
    "if (not os.path.exists(\"SGTSD/Images\")):\r\n",
    "    # Numbered Version\r\n",
    "    for sign in load_paths(os.path.join(\"Traffic_Signs_Templates\", \"1_Input_Images\")):  # Dir. for each sign type\r\n",
    "        head, tail = sign.split('.')\r\n",
    "        name = dir_split(head)\r\n",
    "        os.makedirs(os.path.join(\"SGTSD\", \"Images\", name[-1]))\r\n",
    "        j = 0\r\n",
    "        for dmg in range(len(damage_types)):  # Dir. for each damage type\r\n",
    "            os.makedirs(os.path.join(\"SGTSD\", \"Images\", name[-1], name[-1] + \"_\" + str(j)))\r\n",
    "            j = j + 1\r\n",
    "    \r\n",
    "    # Named Version (Outdated?)\r\n",
    "#     for sign in load_paths(os.path.join(\"Traffic_Signs_Templates\", \"1_Input_Images\")):  # Dir. for each sign type\r\n",
    "#         head, tail = sign.split('.')\r\n",
    "#         name = dir_split(head)\r\n",
    "#         os.makedirs(os.path.join(\"SGTSD\", \"Images\", name[-1]))\r\n",
    "#         for dmg in load_paths(os.path.join(\"Traffic_Signs_Templates\", \"3_Damaged_Images\")): #Dir. for each damage type\r\n",
    "#             headD,tailD = dmg.split('.')\r\n",
    "#             nameD = dir_split(headD)\r\n",
    "#             os.makedirs(os.path.join(\"SGTSD\", \"Images\", name[-1], nameD[-1]))"
   ],
   "outputs": [],
   "metadata": {}
  },
  {
   "cell_type": "code",
   "execution_count": null,
   "source": [
    "# Create a README file\r\n",
    "content = '''\r\n",
    "-----------------------------------------------\r\n",
    "|                     -*-                     |\r\n",
    "|Synthetically Generated Traffic Sign Dataset |\r\n",
    "|                     -*-                     |\r\n",
    "-----------------------------------------------\r\n",
    "\r\n",
    "This directory contains the generated training\r\n",
    "set to be used for training a Convolutional\r\n",
    "Neural Network (CNN).\r\n",
    "\r\n",
    "It may be used for any detector desired and it\r\n",
    "is not limited to a specific set of traffic\r\n",
    "sign templates.\r\n",
    " \r\n",
    "\r\n",
    "----------------------------------------------\r\n",
    "Content\r\n",
    "----------------------------------------------\r\n",
    "\r\n",
    "The number of examples is based on the number:\r\n",
    "->of traffic signs that were used as templates\r\n",
    "->of damage types applied to images\r\n",
    "->of transformations in image manipulations\r\n",
    "->of the brightness variation values used\r\n",
    "->of blending procedures\r\n",
    "\r\n",
    "\r\n",
    "----------------------------------------------\r\n",
    "Image format and naming\r\n",
    "----------------------------------------------\r\n",
    "\r\n",
    "The images created are of \"jpg\" format\r\n",
    "with RGBA channels.\r\n",
    "\r\n",
    "   XXX/XXX_YYY/XXX_YYY_ZZZ.jpg\r\n",
    "\r\n",
    "(X) is used to distinguish the sign class, (Y)\r\n",
    "is used to distinguish the damage type and (Z)\r\n",
    "is used to indicate the example number.\r\n",
    "\r\n",
    "\r\n",
    "----------------------------------------------\r\n",
    "Additional information\r\n",
    "----------------------------------------------\r\n",
    "\r\n",
    "Contact Email:\r\n",
    "   Original Code:\r\n",
    "\t   asterga@essex.ac.uk\r\n",
    "\r\n",
    "   Adapted Damage Code:\r\n",
    "      kristian.rados@student.curtin.edu.au\r\n",
    "      seana.dale@student.curtin.edu.au\r\n",
    "\r\n",
    "\r\n",
    "----------------------------------------------\r\n",
    "'''\r\n",
    "\r\n",
    "text_file = open(\"SGTSD/Readme_Images.txt\", \"w\")\r\n",
    "text_file.write(content)\r\n",
    "text_file.close()"
   ],
   "outputs": [],
   "metadata": {}
  },
  {
   "cell_type": "code",
   "execution_count": null,
   "source": [
    "if original is True:\r\n",
    "    directories = generate.create_paths_list(\"Traffic_Signs_Exposure_Manipulation\", \"Backgrounds\")\r\n",
    "else:\r\n",
    "    directories = generate.create_assigned_paths_list(\"Traffic_Signs_Fade_Manipulation\", \"Backgrounds\")\r\n",
    "print(\"Files to be generated: \" + str(len(directories)))"
   ],
   "outputs": [],
   "metadata": {
    "scrolled": true,
    "tags": []
   }
  },
  {
   "cell_type": "code",
   "execution_count": null,
   "source": [
    "#TODO: Something has gone wrong here onwards... final_directories is filled with empty elements"
   ],
   "outputs": [],
   "metadata": {}
  },
  {
   "cell_type": "code",
   "execution_count": null,
   "source": [
    "final_directories = []  # Reformat list to have each sign and damage as their own dimensions\r\n",
    "signs = load_paths(os.path.join(\"Traffic_Signs_Templates\", \"1_Input_Images\"))\r\n",
    "for i in signs:\r\n",
    "    head, tail = ntpath.split(i)\r\n",
    "    sign, extension = tail.split('.')  # Eg. sign == \"9\"\r\n",
    "\r\n",
    "    sign_list = []  # List of damages, which are each list of signs\r\n",
    "    for dmg in damage_types:  # Damage_types is from 'def damage_images:' cell\r\n",
    "        sign_list.append(generate.list_for_sign_x(sign, dmg, directories))\r\n",
    "    final_directories.append(sign_list)  # List of types -> lists of damages -> lists of signs"
   ],
   "outputs": [],
   "metadata": {}
  },
  {
   "cell_type": "code",
   "execution_count": null,
   "source": [
    "# Generate and write the new data to its file\r\n",
    "direct = os.path.join(\"SGTSD\", \"Images\")\r\n",
    "direct1 = os.path.join(\"SGTSD\", \"Labels\")\r\n",
    "folders = load_paths(direct)\r\n",
    "n = []  # Numbers from the folder names for the signs\r\n",
    "for folder in folders:\r\n",
    "    head, tail = ntpath.split(folder)\r\n",
    "    n.append(tail)\r\n",
    "\r\n",
    "# Count how many signs there are; needed for the progress bar\r\n",
    "total = 0\r\n",
    "for signs in final_directories:\r\n",
    "    for damages in signs:\r\n",
    "        for dirs in damages:\r\n",
    "            total += 1\r\n",
    "\r\n",
    "count = 0\r\n",
    "ii = 0\r\n",
    "for signs in final_directories:  # Iterate through sign types\r\n",
    "    jj = 0\r\n",
    "    for damages in signs:  # Iterate through damage types\r\n",
    "        # FIXME: For some reason secondary progress counter has broken from initial implementation\r\n",
    "        print(\"Processed: \" + str(float(count) / float(total) * 100) + \" %\")\r\n",
    "        kk = 0\r\n",
    "\r\n",
    "        label_filename = os.path.join(direct1, n[ii], n[ii] + \"_\" + str(ij) + \".txt\")\r\n",
    "        text_file = open(label_filename, \"r\")\r\n",
    "        values = text_file.read()  # Retrieve the damage values created earlier in the damage_images function\r\n",
    "        text_file = open(label_filename, \"w\")\r\n",
    "\r\n",
    "        for dirs in damages:  # dirs == the foreground and background images for one generated sign\r\n",
    "            filename = os.path.join(direct, n[ii], n[ii] + \"_\" + str(ij), n[ii] + \"_\" + str(ij) + \"_\" + str(kk))\r\n",
    "            image = new_data(dirs[0], dirs[1], text_file, filename, values) # Combining b.g. with sign f.g.\r\n",
    "            cv2.imwrite(filename + \".png\", image)\r\n",
    "\r\n",
    "            count += 1\r\n",
    "            kk += 1\r\n",
    "        jj += 1\r\n",
    "        text_file.close()\r\n",
    "    ii += 1\r\n",
    "print(\"Processed: \" + str(100) + \" %\")  # FIXME: changing damage names broke something"
   ],
   "outputs": [],
   "metadata": {
    "tags": []
   }
  },
  {
   "cell_type": "code",
   "execution_count": null,
   "source": [
    "string = '''\r\n",
    "-------------------------------------\r\n",
    "BREAKDOWN OF FILES GENERATED BY CLASS\r\n",
    "-------------------------------------\r\n",
    "'''\r\n",
    "total = 0\r\n",
    "for i in range(len(final_directories)):\r\n",
    "    current = 0\r\n",
    "    for j in range(len(final_directories[i])):\r\n",
    "        current = current + len(final_directories[i][j])\r\n",
    "    s = \"Generated \" + str(current) + \" examples for sign class \" + str(i + 1)\r\n",
    "    string = string + '\\n' + s + '\\n'\r\n",
    "    total = total + current\r\n",
    "string = string + '\\n' + \"TOTAL: \" + str(total) + '\\n' + \"Generated on: \" + datetime.now().strftime(\"%Y-%m-%d %H:%M\") + '\\n'\r\n",
    "string = string + \"-------------------------------------\"\r\n",
    "text_file = open(os.path.join(\"SGTSD\", \"generated_images_about.txt\"), \"w\")\r\n",
    "text_file.write(string)\r\n",
    "text_file.close()"
   ],
   "outputs": [],
   "metadata": {}
  },
  {
   "cell_type": "code",
   "execution_count": null,
   "source": [
    "dirs = direct = os.path.join(\"SGTSD\", \"Images\")\r\n",
    "i = 1\r\n",
    "for path in load_paths(dirs):\r\n",
    "    print(\"Processed: \" + str(float(i - 1) / float(len(final_directories)) * 100) + \" %\")\r\n",
    "    for damage in load_paths(path):\r\n",
    "        for image in load_paths(damage):\r\n",
    "            if (image.endswith(\"png\")):\r\n",
    "                png_to_jpeg(image)\r\n",
    "    i += 1\r\n",
    "print(\"Processed: \" + str(100) + \" %\")"
   ],
   "outputs": [],
   "metadata": {
    "tags": []
   }
  },
  {
   "cell_type": "code",
   "execution_count": null,
   "source": [
    "# shutil.rmtree(\"Traffic_Signs_Exposure_Manipulation\")"
   ],
   "outputs": [],
   "metadata": {}
  },
  {
   "cell_type": "code",
   "execution_count": null,
   "source": [
    "# shutil.rmtree(\"Traffic_Signs_Fade_Manipulation\")"
   ],
   "outputs": [],
   "metadata": {}
  },
  {
   "cell_type": "code",
   "execution_count": null,
   "source": [
    "# shutil.rmtree(\"Traffic_Signs_Templates/4_Transformed_Images\")\r\n",
    "# shutil.rmtree(\"Traffic_Signs_Templates/3_Damaged_Images\")\r\n",
    "# shutil.rmtree(\"Traffic_Signs_Templates/2_Processed_Images\")"
   ],
   "outputs": [],
   "metadata": {}
  },
  {
   "cell_type": "code",
   "execution_count": null,
   "source": [
    "# shutil.rmtree(\"SGTSD\")  # Be careful with this one"
   ],
   "outputs": [],
   "metadata": {}
  }
 ],
 "metadata": {
  "kernelspec": {
   "name": "python3",
   "display_name": "Python 3.9.6 64-bit"
  },
  "language_info": {
   "codemirror_mode": {
    "name": "ipython",
    "version": 3
   },
   "file_extension": ".py",
   "mimetype": "text/x-python",
   "name": "python",
   "nbconvert_exporter": "python",
   "pygments_lexer": "ipython3",
   "version": "3.9.6"
  },
  "interpreter": {
   "hash": "a9c1387708d9e4974b2be20baf1ba03d24dc421de985eaacaca663e211393d73"
  }
 },
 "nbformat": 4,
 "nbformat_minor": 2
}