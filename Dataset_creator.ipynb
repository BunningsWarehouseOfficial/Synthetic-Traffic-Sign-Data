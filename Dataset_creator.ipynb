{
 "cells": [
  {
   "cell_type": "markdown",
   "source": [
    "### Currently broken. Needs to be converted into python scripts utilising functions as part of custom packages."
   ],
   "metadata": {}
  },
  {
   "cell_type": "code",
   "execution_count": null,
   "source": [
    "import os\n",
    "import ntpath\n",
    "import shutil\n",
    "import sys\n",
    "import argparse\n",
    "from datetime import datetime\n",
    "import random\n",
    "\n",
    "import numpy as np\n",
    "import cv2\n",
    "from PIL import Image, ImageChops, ImageDraw, ImageOps, ImageFilter, ImageStat, ImageEnhance, ImageFile\n",
    "from skimage import io, color, exposure\n",
    "#import imutils\n",
    "import matplotlib\n",
    "import matplotlib.pyplot as plt\n",
    "import glob\n",
    "import math\n",
    "#import blend_modes\n",
    "\n",
    "from damage import no_damage, remove_quadrant, remove_hole, bullet_holes, graffiti, bend_vertical, damage_image\n",
    "from utils import load_paths, load_files, scale_image, create_alpha, delete_background, to_png, dir_split\n",
    "import manipulate\n",
    "import generate\n",
    "\n",
    "original = True # Whether we are using the original exposure_manipulation code or not"
   ],
   "outputs": [],
   "metadata": {}
  },
  {
   "cell_type": "code",
   "execution_count": null,
   "source": [
    "# Create the output directories if they don't exist already\n",
    "base_dir = \"Traffic_Signs_Templates\"\n",
    "input_dir = os.path.join(base_dir, \"1_Input_Images\")\n",
    "output_dir = os.path.join(base_dir, \"2_Processed_Images\")\n",
    "if (not os.path.exists(base_dir)):\n",
    "    os.mkdir(base_dir)\n",
    "if (not os.path.exists(output_dir)):\n",
    "    os.mkdir(output_dir)\n",
    "\n",
    "# Rescale images and make white backgrounds transparent\n",
    "paths = load_files(input_dir)\n",
    "for path in paths:\n",
    "    img = scale_image(path) # Rescale the image\n",
    "\n",
    "    # Remove the extension and save as a png\n",
    "    _, filename = ntpath.split(path)\n",
    "    name, _ = filename.rsplit('.', 1)\n",
    "    save_path = os.path.join(output_dir, name) + \".png\"\n",
    "    img.save(save_path)\n",
    "\n",
    "    delete_background(save_path, save_path) # Overwrite the newly rescaled image"
   ],
   "outputs": [],
   "metadata": {}
  },
  {
   "cell_type": "code",
   "execution_count": null,
   "source": [
    "# Used for SGTSD\n",
    "#TODO: Use cmd line parameters for damage_types?\n",
    "damage_types = [\"ORIGINAL\", \"QUADRANT\", \"BIG_HOLE\", \"HOLES\", \"YELLOW\", #TODO: Remove damage_types and fix downstream dependencies\n",
    "                 \"GRAFFITI\", \"BEND\", \"GREY\"]\n",
    "\n",
    "#TODO: Cmd line parameter for reusing pre-generated damaged images\n",
    "\n",
    "# Create damaged signs using the images with backgrounds removed\n",
    "input_path = os.path.join(\"Traffic_Signs_Templates\", \"2_Processed_Images\")\n",
    "output_dir = os.path.join(\"Traffic_Signs_Templates\", \"3_Damaged_Images\")\n",
    "\n",
    "# Remove any old output and recreate the output directory\n",
    "if os.path.exists(output_dir):\n",
    "    shutil.rmtree(output_dir)\n",
    "os.mkdir(output_dir)\n",
    "\n",
    "ii = 0\n",
    "processed = load_files(input_path)\n",
    "for image_path in processed:\n",
    "    print(\"Damaging signs: \" + str(float(ii) / float(len(processed)) * 100) + \" %\")\n",
    "    damage_image(image_path, output_dir)\n",
    "    ii += 1\n",
    "print(\"Damaging signs: \" + str(100) + \" %\")"
   ],
   "outputs": [],
   "metadata": {}
  },
  {
   "cell_type": "code",
   "execution_count": null,
   "source": [
    "input_path = os.path.join(\"Traffic_Signs_Templates\", \"3_Damaged_Images\")\n",
    "output_dir = os.path.join(\"Traffic_Signs_Templates\", \"4_Transformed_Images\")\n",
    "\n",
    "# Loop through each folder in the input directory\n",
    "for folder_path in load_paths(input_path):\n",
    "    # Retrieve the sign number to create a directory\n",
    "    _,number = os.path.split(folder_path)\n",
    "    save_dir = os.path.join(output_dir, number)\n",
    "    \n",
    "    for image_path in load_files(folder_path):\n",
    "        manipulate.img_transform(image_path, save_dir)"
   ],
   "outputs": [],
   "metadata": {
    "tags": []
   }
  },
  {
   "cell_type": "code",
   "execution_count": null,
   "source": [
    "ImageFile.LOAD_TRUNCATED_IMAGES = True\n",
    "\n",
    "for bg_folders in load_paths(\"Backgrounds\"):\n",
    "    to_png(bg_folders)"
   ],
   "outputs": [],
   "metadata": {}
  },
  {
   "cell_type": "code",
   "execution_count": null,
   "source": [
    "bg_dir = \"Backgrounds\"\n",
    "transform_dir = os.path.join(\"Traffic_Signs_Templates\", \"4_Transformed_Images\")\n",
    "\n",
    "for dirs in load_paths(bg_dir):\n",
    "    sep = os.sep  # Directory separator: '/' or '\\'\n",
    "\n",
    "    if original is True:\n",
    "        for background in load_paths(dirs):\n",
    "            iniitial, subd, element = dir_split(background)\n",
    "            title, extension = element.split('.')\n",
    "\n",
    "            for signp in load_paths(transform_dir):\n",
    "                for sign in load_paths(signp):\n",
    "                    d,s,f,e = dir_split(sign)  # Eg. s = 4_Transformed_Images, f = 9, e = 9_BOTTOM_HOLE\n",
    "\n",
    "                    exp_dir = \"Traffic_Signs_Exposure_Manipulation\" + sep\n",
    "                    if (not os.path.exists(exp_dir + subd + sep + title + sep + \"SIGN_\" + f + sep + e)):\n",
    "                        os.makedirs(exp_dir + subd + sep + title + sep + \"SIGN_\" + f + sep + e)\n",
    "    else:\n",
    "        for signp in load_paths(transform_dir):\n",
    "            for sign in load_paths(signp):\n",
    "                d,s,f,e = dir_split(sign)\n",
    "\n",
    "                fade_dir = \"Traffic_Signs_Fade_Manipulation\" + sep\n",
    "                if (not os.path.exists(fade_dir + \"SIGN_\" + f + sep + e)):\n",
    "                    os.makedirs(fade_dir + \"SIGN_\" + f + sep + e)\n",
    "\n",
    "signs_paths = []\n",
    "for p in load_paths(transform_dir):\n",
    "    for d in load_paths(p):\n",
    "        signs_paths += load_paths(d)\n",
    "\n",
    "background_paths = []  # Load the paths of the background images into a single list\n",
    "\n",
    "for subfolder in load_paths(bg_dir):\n",
    "    background_paths += load_paths(subfolder)\n",
    "\n",
    "if original is True:\n",
    "    manipulate.exposure_manipulation(signs_paths, background_paths)\n",
    "else:\n",
    "    manipulate.fade_manipulation(signs_paths, background_paths)"
   ],
   "outputs": [],
   "metadata": {
    "scrolled": true,
    "tags": []
   }
  },
  {
   "cell_type": "code",
   "execution_count": null,
   "source": [
    "if original is True:\n",
    "    directory = \"Traffic_Signs_Exposure_Manipulation\"\n",
    "    manipulate.find_useful_signs(directory)"
   ],
   "outputs": [],
   "metadata": {
    "tags": []
   }
  },
  {
   "cell_type": "code",
   "execution_count": null,
   "source": [
    "# Create the required directories in SGTSD\n",
    "if (not os.path.exists(\"SGTSD/Images\")):\n",
    "    # Numbered Version\n",
    "    for sign in load_paths(os.path.join(\"Traffic_Signs_Templates\", \"1_Input_Images\")):  # Dir. for each sign type\n",
    "        head, tail = sign.split('.')\n",
    "        name = dir_split(head)\n",
    "        os.makedirs(os.path.join(\"SGTSD\", \"Images\", name[-1]))\n",
    "        j = 0\n",
    "        for dmg in range(len(damage_types)):  # Dir. for each damage type\n",
    "            os.makedirs(os.path.join(\"SGTSD\", \"Images\", name[-1], name[-1] + \"_\" + str(j)))\n",
    "            j = j + 1\n",
    "    \n",
    "    # Named Version (Outdated?)\n",
    "#     for sign in load_paths(os.path.join(\"Traffic_Signs_Templates\", \"1_Input_Images\")):  # Dir. for each sign type\n",
    "#         head, tail = sign.split('.')\n",
    "#         name = dir_split(head)\n",
    "#         os.makedirs(os.path.join(\"SGTSD\", \"Images\", name[-1]))\n",
    "#         for dmg in load_paths(os.path.join(\"Traffic_Signs_Templates\", \"3_Damaged_Images\")): #Dir. for each damage type\n",
    "#             headD,tailD = dmg.split('.')\n",
    "#             nameD = dir_split(headD)\n",
    "#             os.makedirs(os.path.join(\"SGTSD\", \"Images\", name[-1], nameD[-1]))"
   ],
   "outputs": [],
   "metadata": {}
  },
  {
   "cell_type": "code",
   "execution_count": null,
   "source": [
    "# Create a README file\n",
    "content = '''\n",
    "-----------------------------------------------\n",
    "|                     -*-                     |\n",
    "|Synthetically Generated Traffic Sign Dataset |\n",
    "|                     -*-                     |\n",
    "-----------------------------------------------\n",
    "\n",
    "This directory contains the generated training\n",
    "set to be used for training a Convolutional\n",
    "Neural Network (CNN).\n",
    "\n",
    "It may be used for any detector desired and it\n",
    "is not limited to a specific set of traffic\n",
    "sign templates.\n",
    " \n",
    "\n",
    "----------------------------------------------\n",
    "Content\n",
    "----------------------------------------------\n",
    "\n",
    "The number of examples is based on the number:\n",
    "->of traffic signs that were used as templates\n",
    "->of damage types applied to images\n",
    "->of transformations in image manipulations\n",
    "->of the brightness variation values used\n",
    "->of blending procedures\n",
    "\n",
    "\n",
    "----------------------------------------------\n",
    "Image format and naming\n",
    "----------------------------------------------\n",
    "\n",
    "The images created are of \"jpg\" format\n",
    "with RGBA channels.\n",
    "\n",
    "   XXX/XXX_YYY/XXX_YYY_ZZZ.jpg\n",
    "\n",
    "(X) is used to distinguish the sign class, (Y)\n",
    "is used to distinguish the damage type and (Z)\n",
    "is used to indicate the example number.\n",
    "\n",
    "\n",
    "----------------------------------------------\n",
    "Additional information\n",
    "----------------------------------------------\n",
    "\n",
    "Contact Email:\n",
    "   Original Code:\n",
    "\t   asterga@essex.ac.uk\n",
    "\n",
    "   Adapted Damage Code:\n",
    "      kristian.rados@student.curtin.edu.au\n",
    "      seana.dale@student.curtin.edu.au\n",
    "\n",
    "\n",
    "----------------------------------------------\n",
    "'''\n",
    "\n",
    "text_file = open(\"SGTSD/Readme_Images.txt\", \"w\")\n",
    "text_file.write(content)\n",
    "text_file.close()"
   ],
   "outputs": [],
   "metadata": {}
  },
  {
   "cell_type": "code",
   "execution_count": null,
   "source": [
    "if original is True:\n",
    "    directories = generate.create_paths_list(\"Traffic_Signs_Exposure_Manipulation\", \"Backgrounds\")\n",
    "else:\n",
    "    directories = generate.create_assigned_paths_list(\"Traffic_Signs_Fade_Manipulation\", \"Backgrounds\")\n",
    "print(\"Files to be generated: \" + str(len(directories)))"
   ],
   "outputs": [],
   "metadata": {
    "scrolled": true,
    "tags": []
   }
  },
  {
   "cell_type": "code",
   "execution_count": null,
   "source": [
    "#TODO: Something has gone wrong here onwards... final_directories is filled with empty elements"
   ],
   "outputs": [],
   "metadata": {}
  },
  {
   "cell_type": "code",
   "execution_count": null,
   "source": [
    "final_directories = []  # Reformat list to have each sign and damage as their own dimensions\n",
    "signs = load_paths(os.path.join(\"Traffic_Signs_Templates\", \"1_Input_Images\"))\n",
    "for i in signs:\n",
    "    head, tail = ntpath.split(i)\n",
    "    sign, extension = tail.split('.')  # Eg. sign == \"9\"\n",
    "\n",
    "    sign_list = []  # List of damages, which are each list of signs\n",
    "    for dmg in damage_types:  # Damage_types is from 'def damage_images:' cell\n",
    "        sign_list.append(generate.list_for_sign_x(sign, dmg, directories))\n",
    "    final_directories.append(sign_list)  # List of types -> lists of damages -> lists of signs"
   ],
   "outputs": [],
   "metadata": {}
  },
  {
   "cell_type": "code",
   "execution_count": null,
   "source": [
    "# Generate and write the new data to its file\n",
    "direct = os.path.join(\"SGTSD\", \"Images\")\n",
    "direct1 = os.path.join(\"SGTSD\", \"Labels\")\n",
    "folders = load_paths(direct)\n",
    "n = []  # Numbers from the folder names for the signs\n",
    "for folder in folders:\n",
    "    head, tail = ntpath.split(folder)\n",
    "    n.append(tail)\n",
    "\n",
    "# Count how many signs there are; needed for the progress bar\n",
    "total = 0\n",
    "for signs in final_directories:\n",
    "    for damages in signs:\n",
    "        for dirs in damages:\n",
    "            total += 1\n",
    "\n",
    "count = 0\n",
    "ii = 0\n",
    "for signs in final_directories:  # Iterate through sign types\n",
    "    jj = 0\n",
    "    for damages in signs:  # Iterate through damage types\n",
    "        # FIXME: For some reason secondary progress counter has broken from initial implementation\n",
    "        print(\"Processed: \" + str(float(count) / float(total) * 100) + \" %\")\n",
    "        kk = 0\n",
    "\n",
    "        label_filename = os.path.join(direct1, n[ii], n[ii] + \"_\" + str(ij) + \".txt\")\n",
    "        text_file = open(label_filename, \"r\")\n",
    "        values = text_file.read()  # Retrieve the damage values created earlier in the damage_images function\n",
    "        text_file = open(label_filename, \"w\")\n",
    "\n",
    "        for dirs in damages:  # dirs == the foreground and background images for one generated sign\n",
    "            filename = os.path.join(direct, n[ii], n[ii] + \"_\" + str(ij), n[ii] + \"_\" + str(ij) + \"_\" + str(kk))\n",
    "            image = new_data(dirs[0], dirs[1], text_file, filename, values) # Combining b.g. with sign f.g.\n",
    "            cv2.imwrite(filename + \".png\", image)\n",
    "\n",
    "            count += 1\n",
    "            kk += 1\n",
    "        jj += 1\n",
    "        text_file.close()\n",
    "    ii += 1\n",
    "print(\"Processed: \" + str(100) + \" %\")  # FIXME: changing damage names broke something"
   ],
   "outputs": [],
   "metadata": {
    "tags": []
   }
  },
  {
   "cell_type": "code",
   "execution_count": null,
   "source": [
    "string = '''\n",
    "-------------------------------------\n",
    "BREAKDOWN OF FILES GENERATED BY CLASS\n",
    "-------------------------------------\n",
    "'''\n",
    "total = 0\n",
    "for i in range(len(final_directories)):\n",
    "    current = 0\n",
    "    for j in range(len(final_directories[i])):\n",
    "        current = current + len(final_directories[i][j])\n",
    "    s = \"Generated \" + str(current) + \" examples for sign class \" + str(i + 1)\n",
    "    string = string + '\\n' + s + '\\n'\n",
    "    total = total + current\n",
    "string = string + '\\n' + \"TOTAL: \" + str(total) + '\\n' + \"Generated on: \" + datetime.now().strftime(\"%Y-%m-%d %H:%M\") + '\\n'\n",
    "string = string + \"-------------------------------------\"\n",
    "text_file = open(os.path.join(\"SGTSD\", \"generated_images_about.txt\"), \"w\")\n",
    "text_file.write(string)\n",
    "text_file.close()"
   ],
   "outputs": [],
   "metadata": {}
  },
  {
   "cell_type": "code",
   "execution_count": null,
   "source": [
    "dirs = direct = os.path.join(\"SGTSD\", \"Images\")\n",
    "i = 1\n",
    "for path in load_paths(dirs):\n",
    "    print(\"Processed: \" + str(float(i - 1) / float(len(final_directories)) * 100) + \" %\")\n",
    "    for damage in load_paths(path):\n",
    "        for image in load_paths(damage):\n",
    "            if (image.endswith(\"png\")):\n",
    "                png_to_jpeg(image)\n",
    "    i += 1\n",
    "print(\"Processed: \" + str(100) + \" %\")"
   ],
   "outputs": [],
   "metadata": {
    "tags": []
   }
  },
  {
   "cell_type": "code",
   "execution_count": null,
   "source": [
    "# shutil.rmtree(\"Traffic_Signs_Exposure_Manipulation\")"
   ],
   "outputs": [],
   "metadata": {}
  },
  {
   "cell_type": "code",
   "execution_count": null,
   "source": [
    "# shutil.rmtree(\"Traffic_Signs_Fade_Manipulation\")"
   ],
   "outputs": [],
   "metadata": {}
  },
  {
   "cell_type": "code",
   "execution_count": null,
   "source": [
    "# shutil.rmtree(\"Traffic_Signs_Templates/4_Transformed_Images\")\n",
    "# shutil.rmtree(\"Traffic_Signs_Templates/3_Damaged_Images\")\n",
    "# shutil.rmtree(\"Traffic_Signs_Templates/2_Processed_Images\")"
   ],
   "outputs": [],
   "metadata": {}
  },
  {
   "cell_type": "code",
   "execution_count": null,
   "source": [
    "# shutil.rmtree(\"SGTSD\")  # Be careful with this one"
   ],
   "outputs": [],
   "metadata": {}
  }
 ],
 "metadata": {
  "kernelspec": {
   "name": "python3",
   "display_name": "Python 3.6.9 64-bit"
  },
  "language_info": {
   "codemirror_mode": {
    "name": "ipython",
    "version": 3
   },
   "file_extension": ".py",
   "mimetype": "text/x-python",
   "name": "python",
   "nbconvert_exporter": "python",
   "pygments_lexer": "ipython3",
   "version": "3.6.9"
  },
  "interpreter": {
   "hash": "31f2aee4e71d21fbe5cf8b01ff0e069b9275f58929596ceb00d14d90e3e16cd6"
  }
 },
 "nbformat": 4,
 "nbformat_minor": 2
}