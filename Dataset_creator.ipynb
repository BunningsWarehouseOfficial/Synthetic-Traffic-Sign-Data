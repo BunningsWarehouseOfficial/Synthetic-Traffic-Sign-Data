{
 "cells": [
  {
   "cell_type": "markdown",
   "metadata": {},
   "source": [
    "### Currently broken. Needs to be converted into python scripts utilising functions as part of custom packages."
   ]
  },
  {
   "cell_type": "code",
   "execution_count": null,
   "metadata": {},
   "outputs": [],
   "source": [
    "import os\n",
    "import ntpath\n",
    "import shutil\n",
    "import sys\n",
    "import argparse\n",
    "from datetime import datetime\n",
    "import random\n",
    "\n",
    "import numpy as np\n",
    "import cv2\n",
    "from PIL import Image, ImageChops, ImageDraw, ImageOps, ImageFilter, ImageStat, ImageEnhance, ImageFile\n",
    "from skimage import io, color, exposure\n",
    "import matplotlib\n",
    "import matplotlib.pyplot as plt\n",
    "import glob\n",
    "import math\n",
    "\n",
    "from damage import no_damage, remove_quadrant, remove_hole, bullet_holes, graffiti, bend_vertical, damage_image\n",
    "from utils import load_paths, load_files, scale_image, create_alpha, delete_background, to_png, dir_split, png_to_jpeg\n",
    "import manipulate\n",
    "import generate"
   ]
  },
  {
   "cell_type": "code",
   "execution_count": null,
   "metadata": {},
   "outputs": [],
   "source": [
    "import yaml\n",
    "\n",
    "with open(\"config.yaml\", \"r\") as ymlfile:\n",
    "    config = yaml.load(ymlfile, Loader=yaml.FullLoader)\n",
    "\n",
    "# Directory names excluded from config.yaml to make use of .gitignore simpler\n",
    "base_dir        = \"Sign_Templates\"\n",
    "input_dir       = os.path.join(base_dir, \"1_Input\")\n",
    "processed_dir   = os.path.join(base_dir, \"2_Processed\")\n",
    "damaged_dir     = os.path.join(base_dir, \"3_Damaged\")\n",
    "transformed_dir = os.path.join(base_dir, \"4_Transformed\")\n",
    "manipulated_dir = \"5_Manipulated\"\n",
    "\n",
    "bg_dir    = \"Backgrounds\"\n",
    "final_dir = \"SGTS_Dataset\"  # SGTSD stands for \"Synthetically Generated Traffic Sign Dataset\""
   ]
  },
  {
   "cell_type": "code",
   "execution_count": null,
   "metadata": {},
   "outputs": [],
   "source": [
    "# Create the output directories if they don't exist already\n",
    "if not os.path.exists(base_dir):\n",
    "    os.mkdir(base_dir)\n",
    "if os.path.exists(processed_dir):\n",
    "    shutil.rmtree(processed_dir)\n",
    "os.mkdir(processed_dir)\n",
    "\n",
    "# Rescale images and make white backgrounds transparent\n",
    "paths = load_files(input_dir)\n",
    "for path in paths:\n",
    "    img = scale_image(path, config['sign_width']) # Rescale the image\n",
    "\n",
    "    # Remove the extension and save as a png\n",
    "    _, filename = ntpath.split(path)\n",
    "    name, _ = filename.rsplit('.', 1)\n",
    "    save_path = os.path.join(processed_dir, name) + \".png\"\n",
    "    img.save(save_path)\n",
    "\n",
    "    delete_background(save_path, save_path) # Overwrite the newly rescaled image"
   ]
  },
  {
   "cell_type": "code",
   "execution_count": null,
   "metadata": {},
   "outputs": [],
   "source": [
    "# Used for SGTSD  TODO: Get rid of or fix this fiend, or at least its dodgy dependencies\n",
    "damage_types = config['damage_types']\n",
    "\n",
    "#TODO: Cmd line parameter for reusing pre-generated damaged images\n",
    "\n",
    "# Remove any old output and recreate the output directory\n",
    "reusable = config['reuse_damage']\n",
    "if not reusable:\n",
    "    shutil.rmtree(damaged_dir)\n",
    "if not os.path.exists(damaged_dir):\n",
    "    os.mkdir(damaged_dir)\n",
    "    \n",
    "    ii = 0\n",
    "    processed = load_files(processed_dir)\n",
    "    for image_path in processed:\n",
    "        print(\"Damaging signs: \" + str(float(ii) / float(len(processed)) * 100) + \" %\")\n",
    "        labels_dir = os.path.join(final_dir, \"Labels\")\n",
    "        damage_image(image_path, damaged_dir, labels_dir)\n",
    "        ii += 1\n",
    "    print(\"Damaging signs: \" + str(100) + \" %\")\n",
    "else:\n",
    "    print(\"Reusing pre-existing damaged signs\")"
   ]
  },
  {
   "cell_type": "code",
   "execution_count": null,
   "metadata": {
    "tags": []
   },
   "outputs": [],
   "source": [
    "# Loop through each folder in the input directory\n",
    "for folder_path in load_paths(damaged_dir):\n",
    "    # Retrieve the sign number to create a directory\n",
    "    _,number = os.path.split(folder_path)\n",
    "    save_dir = os.path.join(transformed_dir, number)\n",
    "    \n",
    "    for image_path in load_files(folder_path):\n",
    "        manipulate.img_transform(image_path, save_dir)"
   ]
  },
  {
   "cell_type": "code",
   "execution_count": null,
   "metadata": {},
   "outputs": [],
   "source": [
    "ImageFile.LOAD_TRUNCATED_IMAGES = True\n",
    "\n",
    "for bg_folders in load_paths(bg_dir):\n",
    "    to_png(bg_folders)"
   ]
  },
  {
   "cell_type": "code",
   "execution_count": null,
   "metadata": {
    "scrolled": true,
    "tags": []
   },
   "outputs": [],
   "source": [
    "for dirs in load_paths(bg_dir):\n",
    "    sep = os.sep  # Directory separator: '/' or '\\'\n",
    "\n",
    "    if config['man_method'] == 'exposure':\n",
    "        for background in load_paths(dirs):\n",
    "            iniitial, subd, element = dir_split(background)\n",
    "            title, extension = element.split('.')\n",
    "\n",
    "            for signp in load_paths(transform_dir):\n",
    "                for sign in load_paths(signp):\n",
    "                    d,s,f,e = dir_split(sign)  # Eg. s = 4_Transformed_Images, f = 9, e = 9_BOTTOM_HOLE\n",
    "\n",
    "                    exp_dir = manipulated_dir + sep\n",
    "                    if (not os.path.exists(exp_dir + subd + sep + title + sep + \"SIGN_\" + f + sep + e)):\n",
    "                        os.makedirs(exp_dir + subd + sep + title + sep + \"SIGN_\" + f + sep + e)\n",
    "    else:\n",
    "        for signp in load_paths(transform_dir):\n",
    "            for sign in load_paths(signp):\n",
    "                d,s,f,e = dir_split(sign)\n",
    "\n",
    "                fade_dir = manipulated_dir + sep\n",
    "                if (not os.path.exists(fade_dir + \"SIGN_\" + f + sep + e)):\n",
    "                    os.makedirs(fade_dir + \"SIGN_\" + f + sep + e)\n",
    "\n",
    "signs_paths = []\n",
    "for p in load_paths(transform_dir):\n",
    "    for d in load_paths(p):\n",
    "        signs_paths += load_paths(d)\n",
    "\n",
    "background_paths = []  # Load the paths of the background images into a single list\n",
    "\n",
    "for subfolder in load_paths(bg_dir):\n",
    "    background_paths += load_paths(subfolder)\n",
    "\n",
    "if config['man_method'] == 'exposure':\n",
    "    manipulate.exposure_manipulation(signs_paths, background_paths)\n",
    "else:\n",
    "    manipulate.fade_manipulation(signs_paths, background_paths)"
   ]
  },
  {
   "cell_type": "code",
   "execution_count": null,
   "metadata": {
    "tags": []
   },
   "outputs": [],
   "source": [
    "if config['man_method'] == 'exposure':\n",
    "    manipulate.find_useful_signs(manipulated_dir)"
   ]
  },
  {
   "cell_type": "code",
   "execution_count": null,
   "metadata": {},
   "outputs": [],
   "source": [
    "# Create the required directories in SGTSD\n",
    "if (not os.path.exists(os.path.join(final_dir, \"Images\"))):\n",
    "    # Numbered Version\n",
    "    for sign in load_paths(input_dir):  # Dir. for each sign type\n",
    "        head, tail = sign.split('.')\n",
    "        name = dir_split(head)\n",
    "        os.makedirs(os.path.join(final_dir, \"Images\", name[-1]))\n",
    "        j = 0\n",
    "        for dmg in range(len(damage_types)):  # Dir. for each damage type\n",
    "            os.makedirs(os.path.join(final_dir, \"Images\", name[-1], name[-1] + \"_\" + str(j)))\n",
    "            j = j + 1\n",
    "    \n",
    "    # Named Version (Outdated?)\n",
    "#     for sign in load_paths(os.path.join(\"Traffic_Signs_Templates\", \"1_Input_Images\")):  # Dir. for each sign type\n",
    "#         head, tail = sign.split('.')\n",
    "#         name = dir_split(head)\n",
    "#         os.makedirs(os.path.join(\"SGTSD\", \"Images\", name[-1]))\n",
    "#         for dmg in load_paths(os.path.join(\"Traffic_Signs_Templates\", \"3_Damaged_Images\")): #Dir. for each damage type\n",
    "#             headD,tailD = dmg.split('.')\n",
    "#             nameD = dir_split(headD)\n",
    "#             os.makedirs(os.path.join(\"SGTSD\", \"Images\", name[-1], nameD[-1]))"
   ]
  },
  {
   "cell_type": "code",
   "execution_count": null,
   "metadata": {},
   "outputs": [],
   "source": [
    "# Create a README file  #TODO: Really necessary?\n",
    "content = '''\n",
    "-----------------------------------------------\n",
    "|                     -*-                     |\n",
    "|Synthetically Generated Traffic Sign Dataset |\n",
    "|                     -*-                     |\n",
    "-----------------------------------------------\n",
    "\n",
    "This directory contains the generated training\n",
    "set to be used for training a Convolutional\n",
    "Neural Network (CNN).\n",
    "\n",
    "It may be used for any detector desired and it\n",
    "is not limited to a specific set of traffic\n",
    "sign templates.\n",
    " \n",
    "\n",
    "----------------------------------------------\n",
    "Content\n",
    "----------------------------------------------\n",
    "\n",
    "The number of examples is based on the number:\n",
    "->of traffic signs that were used as templates\n",
    "->of damage types applied to images\n",
    "->of transformations in image manipulations\n",
    "->of the brightness variation values used\n",
    "->of blending procedures\n",
    "\n",
    "\n",
    "----------------------------------------------\n",
    "Image format and naming\n",
    "----------------------------------------------\n",
    "\n",
    "The images created are of \"jpg\" format\n",
    "with RGBA channels.\n",
    "\n",
    "   XXX/XXX_YYY/XXX_YYY_ZZZ.jpg\n",
    "\n",
    "(X) is used to distinguish the sign class, (Y)\n",
    "is used to distinguish the damage type and (Z)\n",
    "is used to indicate the example number.\n",
    "\n",
    "\n",
    "----------------------------------------------\n",
    "Additional information\n",
    "----------------------------------------------\n",
    "\n",
    "Contact Email:\n",
    "   Original Code:\n",
    "\t   asterga@essex.ac.uk\n",
    "\n",
    "   Adapted Damage Code:\n",
    "      kristian.rados@student.curtin.edu.au\n",
    "      seana.dale@student.curtin.edu.au\n",
    "\n",
    "\n",
    "----------------------------------------------\n",
    "'''\n",
    "\n",
    "text_file = open(os.path.join(final_dir, \"Readme_Images.txt\"), \"w\")\n",
    "text_file.write(content)\n",
    "text_file.close()"
   ]
  },
  {
   "cell_type": "code",
   "execution_count": null,
   "metadata": {
    "scrolled": true,
    "tags": []
   },
   "outputs": [],
   "source": [
    "directories = generate.assigned_paths_list(manipulated_dir, bg_dir)\n",
    "print(\"Files to be generated: \" + str(len(directories)))"
   ]
  },
  {
   "cell_type": "code",
   "execution_count": null,
   "metadata": {},
   "outputs": [],
   "source": [
    "#TODO: Something has gone wrong here onwards... final_directories is filled with empty elements"
   ]
  },
  {
   "cell_type": "code",
   "execution_count": null,
   "metadata": {},
   "outputs": [],
   "source": [
    "final_directories = []  # Reformat list to have each sign and damage as their own dimensions\n",
    "signs = load_paths(os.path.join(\"Traffic_Signs_Templates\", \"1_Input_Images\"))\n",
    "for i in signs:\n",
    "    head, tail = ntpath.split(i)\n",
    "    sign, extension = tail.split('.')  # Eg. sign == \"9\"\n",
    "\n",
    "    sign_list = []  # List of damages, which are each list of signs\n",
    "    for dmg in damage_types:  # Damage_types is from 'def damage_images:' cell\n",
    "        sign_list.append(generate.list_for_sign_x(sign, dmg, directories))\n",
    "    final_directories.append(sign_list)  # List of types -> lists of damages -> lists of signs"
   ]
  },
  {
   "cell_type": "code",
   "execution_count": null,
   "metadata": {
    "tags": []
   },
   "outputs": [],
   "source": [
    "# Generate and write the new data to its file\n",
    "direct = os.path.join(\"SGTSD\", \"Images\")\n",
    "direct1 = os.path.join(\"SGTSD\", \"Labels\")\n",
    "folders = load_paths(direct)\n",
    "n = []  # Numbers from the folder names for the signs\n",
    "for folder in folders:\n",
    "    head, tail = ntpath.split(folder)\n",
    "    n.append(tail)\n",
    "\n",
    "# Count how many signs there are; needed for the progress bar\n",
    "total = 0\n",
    "for signs in final_directories:\n",
    "    for damages in signs:\n",
    "        for dirs in damages:\n",
    "            total += 1\n",
    "\n",
    "count = 0\n",
    "ii = 0\n",
    "for signs in final_directories:  # Iterate through sign types\n",
    "    jj = 0\n",
    "    for damages in signs:  # Iterate through damage types\n",
    "        # FIXME: For some reason secondary progress counter has broken from initial implementation\n",
    "        print(\"Processed: \" + str(float(count) / float(total) * 100) + \" %\")\n",
    "        kk = 0\n",
    "\n",
    "        label_filename = os.path.join(direct1, n[ii], n[ii] + \"_\" + str(ij) + \".txt\")\n",
    "        text_file = open(label_filename, \"r\")\n",
    "        values = text_file.read()  # Retrieve the damage values created earlier in the damage_images function\n",
    "        text_file = open(label_filename, \"w\")\n",
    "\n",
    "        for dirs in damages:  # dirs == the foreground and background images for one generated sign\n",
    "            filename = os.path.join(direct, n[ii], n[ii] + \"_\" + str(ij), n[ii] + \"_\" + str(ij) + \"_\" + str(kk))\n",
    "            image = generate.new_data(dirs[0], dirs[1], text_file, filename, values) # Combining b.g. with sign f.g.\n",
    "            cv2.imwrite(filename + \".png\", image)\n",
    "\n",
    "            count += 1\n",
    "            kk += 1\n",
    "        jj += 1\n",
    "        text_file.close()\n",
    "    ii += 1\n",
    "print(\"Processed: \" + str(100) + \" %\")  # FIXME: changing damage names broke something"
   ]
  },
  {
   "cell_type": "code",
   "execution_count": null,
   "metadata": {},
   "outputs": [],
   "source": [
    "string = '''\n",
    "-------------------------------------\n",
    "BREAKDOWN OF FILES GENERATED BY CLASS\n",
    "-------------------------------------\n",
    "'''\n",
    "total = 0\n",
    "for i in range(len(final_directories)):\n",
    "    current = 0\n",
    "    for j in range(len(final_directories[i])):\n",
    "        current = current + len(final_directories[i][j])\n",
    "    s = \"Generated \" + str(current) + \" examples for sign class \" + str(i + 1)\n",
    "    string = string + '\\n' + s + '\\n'\n",
    "    total = total + current\n",
    "string = string + '\\n' + \"TOTAL: \" + str(total) + '\\n' + \"Generated on: \" + datetime.now().strftime(\"%Y-%m-%d %H:%M\") + '\\n'\n",
    "string = string + \"-------------------------------------\"\n",
    "text_file = open(os.path.join(\"SGTSD\", \"generated_images_about.txt\"), \"w\")\n",
    "text_file.write(string)\n",
    "text_file.close()"
   ]
  },
  {
   "cell_type": "code",
   "execution_count": null,
   "metadata": {
    "tags": []
   },
   "outputs": [],
   "source": [
    "dirs = direct = os.path.join(final_dir, \"Images\")\n",
    "i = 1\n",
    "for path in load_paths(dirs):\n",
    "    print(\"Processed: \" + str(float(i - 1) / float(len(final_directories)) * 100) + \" %\")\n",
    "    for damage in load_paths(path):\n",
    "        for image in load_paths(damage):\n",
    "            if (image.endswith(\"png\")):\n",
    "                png_to_jpeg(image)\n",
    "    i += 1\n",
    "print(\"Processed: \" + str(100) + \" %\")"
   ]
  },
  {
   "cell_type": "code",
   "execution_count": null,
   "metadata": {},
   "outputs": [],
   "source": [
    "shutil.rmtree(manipulated_dir)"
   ]
  },
  {
   "cell_type": "code",
   "execution_count": null,
   "metadata": {},
   "outputs": [],
   "source": [
    "shutil.rmtree(transformed_dir)\n",
    "shutil.rmtree(damaged_dir)\n",
    "shutil.rmtree(processed_dir)"
   ]
  },
  {
   "cell_type": "code",
   "execution_count": null,
   "metadata": {},
   "outputs": [],
   "source": [
    "shutil.rmtree(final_dir)  # Be careful with this one"
   ]
  }
 ],
 "metadata": {
  "interpreter": {
   "hash": "aa04ec5abca0df2060c6e16ee8e118fb4a53afe936a6d473f83100aa5828170a"
  },
  "kernelspec": {
   "display_name": "Python 3.9.7 64-bit (windows store)",
   "name": "python3"
  },
  "language_info": {
   "codemirror_mode": {
    "name": "ipython",
    "version": 3
   },
   "file_extension": ".py",
   "mimetype": "text/x-python",
   "name": "python",
   "nbconvert_exporter": "python",
   "pygments_lexer": "ipython3",
   "version": "3.9.7"
  }
 },
 "nbformat": 4,
 "nbformat_minor": 2
}
